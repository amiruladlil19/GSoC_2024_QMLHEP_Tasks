{
 "cells": [
  {
   "cell_type": "markdown",
   "id": "c8806413-2c87-4f08-9a82-cae22949b5c2",
   "metadata": {},
   "source": [
    "## Uniting Classical and Quantum Computing by Polynomial Transformation"
   ]
  },
  {
   "cell_type": "markdown",
   "id": "a86c83f8-8a19-4092-a129-0eddbcce9160",
   "metadata": {},
   "source": [
    "Quantum computing is a newly emerged field that involves employing the law of physics, especially quantum physics, to do computation. Although the computers that have been with us for a long time are also built with the materials, for example semiconductors, that involve physical process that can be explained by quantum physics, those computers still work in the 'classical' way. By classical, we mean the computers that we are currently looking at work in terms of classical binary computational basis known as bits. Those bits are deterministic; each operation that we apply to those bits, no matter how many times, will always give the same result. \n",
    "\n",
    "The quantum computers, however, act a little different. It also work on something like bits, only the bits are quantum states now and therefore can be dubbed as qubits. Because they are quantum states, they have different properties compared to the bits. For example, they are not deterministic. A qubit can be made into a superposition state, for example where they can be in a state 0 or 1 at the same time. We can get the information from the qubit by measuring them, but once we do a measurement, we can only get the state $0$ or $1$ with some probabilities. A qubit can also correlated with another qubit, forming a state that cannot be represented as a (tensor) product between the two qubits that formed it. This state is known as an entangled state.\n",
    "\n",
    "Another diference between the classical and quantum computing is, the classical computing employs irreversible operations while the quantum computing employs reversible (unitary) operation. Therefore it is challenging to unite both perspective. Fortunately, it is found that a unitary operation contains a subsystem which can emulate irreversible operation by performing polynomial transformation of a block-encoded variable or matrix inside a unitary gate. This method is known as Quantum Signal Processing, an algorithm that can be used to polynomially transform a variable, and its generalization that can be used to polynomially transform the singular values of a matrix. \n",
    "\n",
    "The QSP framework utilizes $\\mathcal{O}(d)$ unitary quantum operations, which consist of two kinds of single-qubit rotations, to make a quantum subsystem transform under nearly arbitrary polynomial functions of degree $d$. These rotation operators consist of a signal rotation operator $W$ that rotates around $x$ through the same angle $\\theta$ and a signal processing operator $S$ that rotates around $z$ through a predetermined sequence of variable angles. The signal-processing operator can be represented as\n",
    "\n",
    "\\begin{equation}\n",
    "S(\\phi_i) = e^{i\\phi_i Z}\n",
    "\\end{equation}\n",
    "\n",
    "which is a $z$ rotation by angle $-2\\phi_i$. The angle $\\phi_i$ is an element in the set $\\{\\phi_0, \\phi_1,...,\\phi_d\\} \\in \\mathbb{R}^{d+1}$. Meanwhile, the signal rotation operator can be defined as an $x$ rotation as follows:\n",
    "\n",
    "\\begin{equation}\n",
    "W(a) = \\begin{bmatrix}\n",
    "    a & i\\sqrt{1 - a^2} \\\\\n",
    "    i\\sqrt{1 - a^2} & a\n",
    "    \\end{bmatrix},\n",
    "    \\end{equation}\n",
    "\n",
    "with the rotation angle $\\theta = -2\\cos^{-1}a$. The QSP operation sequence $U_\\phi$ is  defined as \n",
    "\\begin{equation}\n",
    "    U_\\phi = S(\\phi_0)\\prod_{i=1}^dW(a)S(\\phi_i),\n",
    "\\end{equation}\n",
    "which is the sequence of products of these two operators. \n",
    "\n",
    "It can be shown  that $U_\\phi$ produces a matrix of polynomial function of $a$:\n",
    "\\begin{equation}\n",
    "    U_\\phi = \\begin{bmatrix}\n",
    "        P(a) & iQ(a)\\sqrt{1 - a^2} \\\\\n",
    "        iQ^*(a)\\sqrt{1 - a^2} & P^*(a)\n",
    "    \\end{bmatrix}\n",
    "\\end{equation}\n",
    "for $a \\in [-1, 1]$. The polynomials $P(a)$, $Q(a)$ satisfy the following constraints:\n",
    "\n",
    "1. $\\deg(P)\\leq d$, $\\deg(Q)\\leq d-1$ <br/>\n",
    "2. $P$ has parity $d \\mod 2$ and $Q$ has parity $d-1 \\mod 2$ <br/>\n",
    "3. $|P|^2 + (1 - a^2)|Q|^2 = 1$. <br/>\n",
    "\n",
    "The third condition is quite restrictive, for example, if we have $a = \\pm 1$, then we have $\\text{Poly}(a)$ such that $|\\text{Poly}(\\pm 1)| =  \\pm 1$.  To break this limitation, we can define the QSP sequence in the Hadamard basis as follows:\n",
    "\\begin{equation}\n",
    "    \\text{Poly}(a) = \\bra{+}U_\\phi\\ket{+} = \\text{Re}[P(a)] + i \\text{Re}[Q(a)]\\sqrt{1 - a^2}.\n",
    "\\end{equation}\n",
    "\n",
    "By applying polynomial transformation, QSP/QSVT framework not only can unite the classical and quantum computing, but it can also unite several quantum algorithms. Those algorithms are quantum search, hamiltonian simulation, phase estimation, and even topological signal analysis. This framework could potentially have more applications in the future. It would be interesting if we can find its application in quantum machine learning."
   ]
  },
  {
   "cell_type": "markdown",
   "id": "a460b5ae-3b72-4215-a343-1a5c1e1d444d",
   "metadata": {},
   "source": [
    "### References\n",
    "\n",
    "1. Martyn, John M., et al. \"Grand unification of quantum algorithms.\" PRX quantum 2.4 (2021): 040203. <br/>\n",
    "2. Leditto, Caesnan MG, et al. \"Topological Signal Processing on Quantum Computers for Higher-Order Network Analysis.\" arXiv preprint arXiv:2312.07672 (2023)."
   ]
  },
  {
   "cell_type": "code",
   "execution_count": null,
   "id": "8bf21519-9b94-4cf9-9796-c7d2f6cef581",
   "metadata": {},
   "outputs": [],
   "source": []
  }
 ],
 "metadata": {
  "kernelspec": {
   "display_name": "pennylane_kernel",
   "language": "python",
   "name": "pennylane_kernel"
  },
  "language_info": {
   "codemirror_mode": {
    "name": "ipython",
    "version": 3
   },
   "file_extension": ".py",
   "mimetype": "text/x-python",
   "name": "python",
   "nbconvert_exporter": "python",
   "pygments_lexer": "ipython3",
   "version": "3.12.2"
  }
 },
 "nbformat": 4,
 "nbformat_minor": 5
}
