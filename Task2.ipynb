{
 "cells": [
  {
   "cell_type": "markdown",
   "id": "f737b642-cdc0-4907-9297-0de1a55588b3",
   "metadata": {},
   "source": [
    "## Task II: Classical Graph Neural Network (GNN) \n",
    "\n",
    "For Task II, you will use ParticleNet's data for Quark/Gluon jet classification with its corresponding description."
   ]
  },
  {
   "cell_type": "markdown",
   "id": "a1f26199-993e-4cd5-b97b-92870add3e22",
   "metadata": {},
   "source": [
    "## Data Preparation"
   ]
  },
  {
   "cell_type": "code",
   "execution_count": 1,
   "id": "bd6ccaa6-7fad-4485-beeb-618951d8c93f",
   "metadata": {},
   "outputs": [],
   "source": [
    "import numpy as np\n",
    "import pandas as pd\n"
   ]
  },
  {
   "cell_type": "code",
   "execution_count": 2,
   "id": "7d31fc2e-8733-4223-9075-2859ea0759cc",
   "metadata": {},
   "outputs": [
    {
     "name": "stdout",
     "output_type": "stream",
     "text": [
      "['X', 'y']\n"
     ]
    }
   ],
   "source": [
    "!wget -qq \"https://zenodo.org/record/3164691/files/QG_jets.npz\"\n",
    "\n",
    "#temp = np.load('QG_jets.npz')\n",
    "print(temp.files)\n"
   ]
  },
  {
   "cell_type": "code",
   "execution_count": 3,
   "id": "3d5e5dc6-b5cc-4d85-bdd5-aefdfc726aae",
   "metadata": {},
   "outputs": [
    {
     "name": "stdout",
     "output_type": "stream",
     "text": [
      "(100000, 139, 4) (100000,)\n"
     ]
    }
   ],
   "source": [
    "x = temp['X']\n",
    "y = temp['y']\n",
    "\n",
    "print(x.shape, y.shape)"
   ]
  },
  {
   "cell_type": "code",
   "execution_count": 4,
   "id": "59285ecc-f42d-47fb-b134-7adf6aad53f4",
   "metadata": {},
   "outputs": [
    {
     "data": {
      "text/plain": [
       "array([[<Axes: title={'center': '0'}>]], dtype=object)"
      ]
     },
     "execution_count": 4,
     "metadata": {},
     "output_type": "execute_result"
    },
    {
     "data": {
      "image/png": "[encoded data removed]",
      "text/plain": [
       "<Figure size 640x480 with 1 Axes>"
      ]
     },
     "metadata": {},
     "output_type": "display_data"
    }
   ],
   "source": [
    "y = pd.DataFrame(temp['y'])\n",
    "y.hist()"
   ]
  },
  {
   "cell_type": "code",
   "execution_count": 5,
   "id": "7f7f2032-170c-49e4-b42e-5c083c33fb53",
   "metadata": {},
   "outputs": [
    {
     "data": {
      "text/html": [
       "<div>\n",
       "<style scoped>\n",
       "    .dataframe tbody tr th:only-of-type {\n",
       "        vertical-align: middle;\n",
       "    }\n",
       "\n",
       "    .dataframe tbody tr th {\n",
       "        vertical-align: top;\n",
       "    }\n",
       "\n",
       "    .dataframe thead th {\n",
       "        text-align: right;\n",
       "    }\n",
       "</style>\n",
       "<table border=\"1\" class=\"dataframe\">\n",
       "  <thead>\n",
       "    <tr style=\"text-align: right;\">\n",
       "      <th></th>\n",
       "      <th>pt</th>\n",
       "      <th>eta</th>\n",
       "      <th>azimuthal</th>\n",
       "      <th>pgdid</th>\n",
       "      <th>y</th>\n",
       "    </tr>\n",
       "  </thead>\n",
       "  <tbody>\n",
       "    <tr>\n",
       "      <th>0</th>\n",
       "      <td>0.268769</td>\n",
       "      <td>0.356903</td>\n",
       "      <td>4.741387</td>\n",
       "      <td>22.0</td>\n",
       "      <td>1.0</td>\n",
       "    </tr>\n",
       "    <tr>\n",
       "      <th>1</th>\n",
       "      <td>1.212663</td>\n",
       "      <td>-0.112853</td>\n",
       "      <td>3.047088</td>\n",
       "      <td>-211.0</td>\n",
       "      <td>1.0</td>\n",
       "    </tr>\n",
       "    <tr>\n",
       "      <th>2</th>\n",
       "      <td>0.216829</td>\n",
       "      <td>-0.997057</td>\n",
       "      <td>0.532569</td>\n",
       "      <td>22.0</td>\n",
       "      <td>1.0</td>\n",
       "    </tr>\n",
       "    <tr>\n",
       "      <th>3</th>\n",
       "      <td>0.413806</td>\n",
       "      <td>0.956889</td>\n",
       "      <td>5.742566</td>\n",
       "      <td>211.0</td>\n",
       "      <td>1.0</td>\n",
       "    </tr>\n",
       "    <tr>\n",
       "      <th>4</th>\n",
       "      <td>0.476434</td>\n",
       "      <td>-0.403307</td>\n",
       "      <td>4.126747</td>\n",
       "      <td>22.0</td>\n",
       "      <td>1.0</td>\n",
       "    </tr>\n",
       "  </tbody>\n",
       "</table>\n",
       "</div>"
      ],
      "text/plain": [
       "         pt       eta  azimuthal  pgdid    y\n",
       "0  0.268769  0.356903   4.741387   22.0  1.0\n",
       "1  1.212663 -0.112853   3.047088 -211.0  1.0\n",
       "2  0.216829 -0.997057   0.532569   22.0  1.0\n",
       "3  0.413806  0.956889   5.742566  211.0  1.0\n",
       "4  0.476434 -0.403307   4.126747   22.0  1.0"
      ]
     },
     "execution_count": 5,
     "metadata": {},
     "output_type": "execute_result"
    }
   ],
   "source": [
    "X=[]\n",
    "for i in temp[\"X\"]:\n",
    "    X.append(i[0])\n",
    "X=pd.DataFrame(X,columns=[\"pt\",\"eta\",\"azimuthal\",\"pgdid\"])\n",
    "y=pd.DataFrame(temp[\"y\"],columns=[\"Y\"])\n",
    "X[\"y\"]=y\n",
    "\n",
    "X.head()"
   ]
  },
  {
   "cell_type": "code",
   "execution_count": 6,
   "id": "b0d33689-538a-4cc8-bcd7-c4a0a4afacb3",
   "metadata": {},
   "outputs": [
    {
     "data": {
      "text/plain": [
       "<Axes: >"
      ]
     },
     "execution_count": 6,
     "metadata": {},
     "output_type": "execute_result"
    },
    {
     "data": {
      "image/png": "[encoded data removed]",
      "text/plain": [
       "<Figure size 640x480 with 1 Axes>"
      ]
     },
     "metadata": {},
     "output_type": "display_data"
    }
   ],
   "source": [
    "X = X[:50000]\n",
    "y=X[\"y\"]\n",
    "X=X.drop([\"y\"],axis=1)\n",
    "y.hist()"
   ]
  },
  {
   "cell_type": "code",
   "execution_count": 7,
   "id": "901f9024-df71-4002-be47-89d389facb3c",
   "metadata": {},
   "outputs": [
    {
     "name": "stdout",
     "output_type": "stream",
     "text": [
      "32500\n"
     ]
    }
   ],
   "source": [
    "from sklearn.model_selection import train_test_split\n",
    "X_train, X_test, y_train, y_test = train_test_split(X, y, test_size=0.35, random_state=42)\n",
    "print(len(X_train))"
   ]
  },
  {
   "cell_type": "markdown",
   "id": "966e8801-07d2-4359-95f9-772d9f1e6932",
   "metadata": {},
   "source": [
    "## DGL"
   ]
  },
  {
   "cell_type": "code",
   "execution_count": 8,
   "id": "f844e40b-f6b1-4d8d-806c-746025804b1b",
   "metadata": {},
   "outputs": [
    {
     "name": "stderr",
     "output_type": "stream",
     "text": [
      "/Users/amiruladlilhakim/Documents/VirtualEnv/pennylane_venv/lib/python3.12/site-packages/tqdm/auto.py:21: TqdmWarning: IProgress not found. Please update jupyter and ipywidgets. See https://ipywidgets.readthedocs.io/en/stable/user_install.html\n",
      "  from .autonotebook import tqdm as notebook_tqdm\n"
     ]
    }
   ],
   "source": [
    "import dgl\n",
    "import torch\n",
    "import numpy as np\n",
    "import pickle\n",
    "import matplotlib.pyplot as plt\n",
    "import networkx as nx"
   ]
  },
  {
   "cell_type": "code",
   "execution_count": 9,
   "id": "4ad377a1-6493-4704-9a5a-220fdac429e2",
   "metadata": {},
   "outputs": [],
   "source": [
    "def build_graph(edges):\n",
    "    g = dgl.DGLGraph()\n",
    "    g.add_nodes(len(X))\n",
    "    src, dst = tuple(zip(*edges))\n",
    "    g.add_edges(src, dst)\n",
    "    g.add_edges(dst, src)\n",
    "    return g"
   ]
  },
  {
   "cell_type": "code",
   "execution_count": 10,
   "id": "830c4619-4831-42b6-8f06-a02d145b7199",
   "metadata": {},
   "outputs": [],
   "source": [
    "edge_list=[]\n",
    "from itertools import combinations  \n",
    "\n",
    "import random\n",
    "edges=random.sample(range(1, len(X_train)), int(len(X_train)/30))\n",
    "edge_list=combinations(edges,2)"
   ]
  },
  {
   "cell_type": "code",
   "execution_count": 11,
   "id": "89ac0f11-7a8f-4d02-85a6-8dd4ac5783b7",
   "metadata": {},
   "outputs": [
    {
     "name": "stdout",
     "output_type": "stream",
     "text": [
      "585903\n"
     ]
    }
   ],
   "source": [
    "edge_list=list(edge_list)\n",
    "print(len(edge_list))\n"
   ]
  },
  {
   "cell_type": "code",
   "execution_count": 12,
   "id": "0002ebcc-65a3-4989-bb8f-6390d74ab74f",
   "metadata": {},
   "outputs": [
    {
     "name": "stderr",
     "output_type": "stream",
     "text": [
      "/Users/amiruladlilhakim/Documents/VirtualEnv/pennylane_venv/lib/python3.12/site-packages/dgl/heterograph.py:92: DGLWarning: Recommend creating graphs by `dgl.graph(data)` instead of `dgl.DGLGraph(data)`.\n",
      "  dgl_warning(\n"
     ]
    }
   ],
   "source": [
    "G = build_graph(edge_list)\n"
   ]
  },
  {
   "cell_type": "code",
   "execution_count": 13,
   "id": "159b15ee-4f4a-482b-9ae9-a1899aceb472",
   "metadata": {},
   "outputs": [
    {
     "name": "stdout",
     "output_type": "stream",
     "text": [
      "Number of nodes: 50000 \n",
      "Number of edges: 1171806 \n"
     ]
    }
   ],
   "source": [
    "print('Number of nodes: %d ' % G.number_of_nodes())\n",
    "print('Number of edges: %d ' % G.number_of_edges())"
   ]
  },
  {
   "cell_type": "code",
   "execution_count": 14,
   "id": "fdfb4677-d0e3-4621-924e-7f65bd045842",
   "metadata": {},
   "outputs": [],
   "source": [
    "import torch.nn as nn\n",
    "import torch.nn.functional as F\n",
    "def gcn_message(edges):\n",
    "    return {'msg' : edges.src['h']}\n",
    "\n",
    "def gcn_reduce(nodes):\n",
    "    return {'h' : torch.sum(nodes.mailbox['msg'], dim=1)}\n",
    "\n",
    "# GCNLayer module\n",
    "class GCNLayer(nn.Module):\n",
    "    def __init__(self, in_feats, out_feats):\n",
    "        super(GCNLayer, self).__init__()\n",
    "        self.linear = nn.Linear(in_feats, out_feats)\n",
    "\n",
    "    def forward(self, g, inputs):\n",
    "        g.ndata['h'] = inputs\n",
    "        g.send_and_recv(g.edges(), gcn_message, gcn_reduce)\n",
    "        h = g.ndata.pop('h')\n",
    "        return self.linear(h)"
   ]
  },
  {
   "cell_type": "code",
   "execution_count": 15,
   "id": "cd95f8bf-cae6-41fc-b227-cd5c7da2380c",
   "metadata": {},
   "outputs": [],
   "source": [
    "class GCN(nn.Module):\n",
    "    def __init__(self, in_feats, hidden_size, num_classes):\n",
    "        super(GCN, self).__init__()\n",
    "        self.gcn1 = GCNLayer(in_feats, hidden_size)\n",
    "        self.gcn2 = GCNLayer(hidden_size, num_classes)\n",
    "        self.softmax = nn.Softmax()\n",
    "\n",
    "    def forward(self, g, inputs):\n",
    "        h = self.gcn1(g, inputs)\n",
    "        h = torch.relu(h)\n",
    "        h = self.gcn2(g, h)\n",
    "        h = self.softmax(h)\n",
    "        return h\n",
    "net = GCN(4, 10, 2)"
   ]
  },
  {
   "cell_type": "code",
   "execution_count": 16,
   "id": "8580e58d-ad2d-4289-aee6-3e98043b72c8",
   "metadata": {},
   "outputs": [],
   "source": [
    "inputs = torch.tensor(X.values)\n",
    "labeled_nodes = torch.tensor(y_train[::3].index)\n",
    "labels = torch.tensor(y_train[::3].values)  "
   ]
  },
  {
   "cell_type": "code",
   "execution_count": 17,
   "id": "fb770d19-ab07-4256-9770-34ae3aebe49e",
   "metadata": {},
   "outputs": [
    {
     "name": "stdout",
     "output_type": "stream",
     "text": [
      "49998 10834\n"
     ]
    }
   ],
   "source": [
    "print(max(y_train[::3].keys()),len(labels))\n"
   ]
  },
  {
   "cell_type": "code",
   "execution_count": 18,
   "id": "186980fc-3989-4133-865d-c36c7de1a72e",
   "metadata": {},
   "outputs": [
    {
     "name": "stderr",
     "output_type": "stream",
     "text": [
      "/Users/amiruladlilhakim/Documents/VirtualEnv/pennylane_venv/lib/python3.12/site-packages/torch/nn/modules/module.py:1511: UserWarning: Implicit dimension choice for softmax has been deprecated. Change the call to include dim=X as an argument.\n",
      "  return self._call_impl(*args, **kwargs)\n"
     ]
    },
    {
     "name": "stdout",
     "output_type": "stream",
     "text": [
      "50000 10834\n",
      "Epoch 0 | Loss: 0.7813\n",
      "50000 10834\n",
      "Epoch 1 | Loss: 0.7808\n",
      "50000 10834\n",
      "Epoch 2 | Loss: 0.7804\n",
      "50000 10834\n",
      "Epoch 3 | Loss: 0.7799\n",
      "50000 10834\n",
      "Epoch 4 | Loss: 0.7794\n",
      "50000 10834\n",
      "Epoch 5 | Loss: 0.7789\n",
      "50000 10834\n",
      "Epoch 6 | Loss: 0.7784\n",
      "50000 10834\n",
      "Epoch 7 | Loss: 0.7779\n",
      "50000 10834\n",
      "Epoch 8 | Loss: 0.7775\n",
      "50000 10834\n",
      "Epoch 9 | Loss: 0.7770\n",
      "50000 10834\n",
      "Epoch 10 | Loss: 0.7765\n",
      "50000 10834\n",
      "Epoch 11 | Loss: 0.7760\n",
      "50000 10834\n",
      "Epoch 12 | Loss: 0.7756\n",
      "50000 10834\n",
      "Epoch 13 | Loss: 0.7751\n",
      "50000 10834\n",
      "Epoch 14 | Loss: 0.7746\n",
      "50000 10834\n",
      "Epoch 15 | Loss: 0.7742\n",
      "50000 10834\n",
      "Epoch 16 | Loss: 0.7737\n",
      "50000 10834\n",
      "Epoch 17 | Loss: 0.7732\n",
      "50000 10834\n",
      "Epoch 18 | Loss: 0.7728\n",
      "50000 10834\n",
      "Epoch 19 | Loss: 0.7723\n",
      "50000 10834\n",
      "Epoch 20 | Loss: 0.7719\n",
      "50000 10834\n",
      "Epoch 21 | Loss: 0.7714\n",
      "50000 10834\n",
      "Epoch 22 | Loss: 0.7710\n",
      "50000 10834\n",
      "Epoch 23 | Loss: 0.7705\n",
      "50000 10834\n",
      "Epoch 24 | Loss: 0.7701\n",
      "50000 10834\n",
      "Epoch 25 | Loss: 0.7697\n",
      "50000 10834\n",
      "Epoch 26 | Loss: 0.7692\n",
      "50000 10834\n",
      "Epoch 27 | Loss: 0.7688\n",
      "50000 10834\n",
      "Epoch 28 | Loss: 0.7684\n",
      "50000 10834\n",
      "Epoch 29 | Loss: 0.7680\n",
      "50000 10834\n",
      "Epoch 30 | Loss: 0.7676\n",
      "50000 10834\n",
      "Epoch 31 | Loss: 0.7671\n",
      "50000 10834\n",
      "Epoch 32 | Loss: 0.7667\n",
      "50000 10834\n",
      "Epoch 33 | Loss: 0.7663\n",
      "50000 10834\n",
      "Epoch 34 | Loss: 0.7659\n",
      "50000 10834\n",
      "Epoch 35 | Loss: 0.7655\n",
      "50000 10834\n",
      "Epoch 36 | Loss: 0.7651\n",
      "50000 10834\n",
      "Epoch 37 | Loss: 0.7648\n",
      "50000 10834\n",
      "Epoch 38 | Loss: 0.7644\n",
      "50000 10834\n",
      "Epoch 39 | Loss: 0.7640\n",
      "50000 10834\n",
      "Epoch 40 | Loss: 0.7636\n",
      "50000 10834\n",
      "Epoch 41 | Loss: 0.7632\n",
      "50000 10834\n",
      "Epoch 42 | Loss: 0.7628\n",
      "50000 10834\n",
      "Epoch 43 | Loss: 0.7621\n",
      "50000 10834\n",
      "Epoch 44 | Loss: 0.7611\n",
      "50000 10834\n",
      "Epoch 45 | Loss: 0.7586\n",
      "50000 10834\n",
      "Epoch 46 | Loss: 0.7528\n",
      "50000 10834\n",
      "Epoch 47 | Loss: 0.7424\n",
      "50000 10834\n",
      "Epoch 48 | Loss: 0.7410\n",
      "50000 10834\n",
      "Epoch 49 | Loss: 0.7468\n",
      "50000 10834\n",
      "Epoch 50 | Loss: 0.7472\n",
      "50000 10834\n",
      "Epoch 51 | Loss: 0.7434\n",
      "50000 10834\n",
      "Epoch 52 | Loss: 0.7385\n",
      "50000 10834\n",
      "Epoch 53 | Loss: 0.7352\n",
      "50000 10834\n",
      "Epoch 54 | Loss: 0.7418\n",
      "50000 10834\n",
      "Epoch 55 | Loss: 0.7427\n",
      "50000 10834\n",
      "Epoch 56 | Loss: 0.7406\n",
      "50000 10834\n",
      "Epoch 57 | Loss: 0.7340\n",
      "50000 10834\n",
      "Epoch 58 | Loss: 0.7360\n",
      "50000 10834\n",
      "Epoch 59 | Loss: 0.7389\n",
      "50000 10834\n",
      "Epoch 60 | Loss: 0.7405\n",
      "50000 10834\n",
      "Epoch 61 | Loss: 0.7393\n",
      "50000 10834\n",
      "Epoch 62 | Loss: 0.7363\n",
      "50000 10834\n",
      "Epoch 63 | Loss: 0.7336\n",
      "50000 10834\n",
      "Epoch 64 | Loss: 0.7309\n",
      "50000 10834\n",
      "Epoch 65 | Loss: 0.7374\n",
      "50000 10834\n",
      "Epoch 66 | Loss: 0.7397\n",
      "50000 10834\n",
      "Epoch 67 | Loss: 0.7396\n",
      "50000 10834\n",
      "Epoch 68 | Loss: 0.7373\n",
      "50000 10834\n",
      "Epoch 69 | Loss: 0.7330\n",
      "50000 10834\n",
      "Epoch 70 | Loss: 0.7293\n",
      "50000 10834\n",
      "Epoch 71 | Loss: 0.7300\n",
      "50000 10834\n",
      "Epoch 72 | Loss: 0.7313\n",
      "50000 10834\n",
      "Epoch 73 | Loss: 0.7314\n",
      "50000 10834\n",
      "Epoch 74 | Loss: 0.7299\n",
      "50000 10834\n",
      "Epoch 75 | Loss: 0.7275\n",
      "50000 10834\n",
      "Epoch 76 | Loss: 0.7257\n",
      "50000 10834\n",
      "Epoch 77 | Loss: 0.7229\n",
      "50000 10834\n",
      "Epoch 78 | Loss: 0.7278\n",
      "50000 10834\n",
      "Epoch 79 | Loss: 0.7289\n",
      "50000 10834\n",
      "Epoch 80 | Loss: 0.7278\n",
      "50000 10834\n",
      "Epoch 81 | Loss: 0.7247\n",
      "50000 10834\n",
      "Epoch 82 | Loss: 0.7190\n",
      "50000 10834\n",
      "Epoch 83 | Loss: 0.7197\n",
      "50000 10834\n",
      "Epoch 84 | Loss: 0.7191\n",
      "50000 10834\n",
      "Epoch 85 | Loss: 0.7183\n",
      "50000 10834\n",
      "Epoch 86 | Loss: 0.7174\n",
      "50000 10834\n",
      "Epoch 87 | Loss: 0.7164\n",
      "50000 10834\n",
      "Epoch 88 | Loss: 0.7153\n",
      "50000 10834\n",
      "Epoch 89 | Loss: 0.7130\n",
      "50000 10834\n",
      "Epoch 90 | Loss: 0.7157\n",
      "50000 10834\n",
      "Epoch 91 | Loss: 0.7153\n",
      "50000 10834\n",
      "Epoch 92 | Loss: 0.7105\n",
      "50000 10834\n",
      "Epoch 93 | Loss: 0.7117\n",
      "50000 10834\n",
      "Epoch 94 | Loss: 0.7124\n",
      "50000 10834\n",
      "Epoch 95 | Loss: 0.7133\n",
      "50000 10834\n",
      "Epoch 96 | Loss: 0.7130\n",
      "50000 10834\n",
      "Epoch 97 | Loss: 0.7114\n",
      "50000 10834\n",
      "Epoch 98 | Loss: 0.7093\n",
      "50000 10834\n",
      "Epoch 99 | Loss: 0.7078\n",
      "50000 10834\n",
      "Epoch 100 | Loss: 0.7054\n",
      "50000 10834\n",
      "Epoch 101 | Loss: 0.7073\n",
      "50000 10834\n",
      "Epoch 102 | Loss: 0.7045\n",
      "50000 10834\n",
      "Epoch 103 | Loss: 0.7048\n",
      "50000 10834\n",
      "Epoch 104 | Loss: 0.7036\n",
      "50000 10834\n",
      "Epoch 105 | Loss: 0.7038\n",
      "50000 10834\n",
      "Epoch 106 | Loss: 0.7039\n",
      "50000 10834\n",
      "Epoch 107 | Loss: 0.7035\n",
      "50000 10834\n",
      "Epoch 108 | Loss: 0.7028\n",
      "50000 10834\n",
      "Epoch 109 | Loss: 0.7019\n",
      "50000 10834\n",
      "Epoch 110 | Loss: 0.7021\n",
      "50000 10834\n",
      "Epoch 111 | Loss: 0.7014\n",
      "50000 10834\n",
      "Epoch 112 | Loss: 0.7011\n",
      "50000 10834\n",
      "Epoch 113 | Loss: 0.7010\n",
      "50000 10834\n",
      "Epoch 114 | Loss: 0.7005\n",
      "50000 10834\n",
      "Epoch 115 | Loss: 0.7001\n",
      "50000 10834\n",
      "Epoch 116 | Loss: 0.7000\n",
      "50000 10834\n",
      "Epoch 117 | Loss: 0.6996\n",
      "50000 10834\n",
      "Epoch 118 | Loss: 0.6992\n",
      "50000 10834\n",
      "Epoch 119 | Loss: 0.6990\n",
      "50000 10834\n",
      "Epoch 120 | Loss: 0.6989\n",
      "50000 10834\n",
      "Epoch 121 | Loss: 0.6987\n",
      "50000 10834\n",
      "Epoch 122 | Loss: 0.6985\n",
      "50000 10834\n",
      "Epoch 123 | Loss: 0.6983\n",
      "50000 10834\n",
      "Epoch 124 | Loss: 0.6983\n",
      "50000 10834\n",
      "Epoch 125 | Loss: 0.6983\n",
      "50000 10834\n",
      "Epoch 126 | Loss: 0.6983\n",
      "50000 10834\n",
      "Epoch 127 | Loss: 0.6981\n",
      "50000 10834\n",
      "Epoch 128 | Loss: 0.6980\n",
      "50000 10834\n",
      "Epoch 129 | Loss: 0.6980\n",
      "50000 10834\n",
      "Epoch 130 | Loss: 0.6980\n",
      "50000 10834\n",
      "Epoch 131 | Loss: 0.6980\n",
      "50000 10834\n",
      "Epoch 132 | Loss: 0.6979\n",
      "50000 10834\n",
      "Epoch 133 | Loss: 0.6978\n",
      "50000 10834\n",
      "Epoch 134 | Loss: 0.6977\n",
      "50000 10834\n",
      "Epoch 135 | Loss: 0.6977\n",
      "50000 10834\n",
      "Epoch 136 | Loss: 0.6976\n",
      "50000 10834\n",
      "Epoch 137 | Loss: 0.6976\n",
      "50000 10834\n",
      "Epoch 138 | Loss: 0.6976\n",
      "50000 10834\n",
      "Epoch 139 | Loss: 0.6976\n",
      "50000 10834\n",
      "Epoch 140 | Loss: 0.6976\n",
      "50000 10834\n",
      "Epoch 141 | Loss: 0.6976\n",
      "50000 10834\n",
      "Epoch 142 | Loss: 0.6976\n",
      "50000 10834\n",
      "Epoch 143 | Loss: 0.6975\n",
      "50000 10834\n",
      "Epoch 144 | Loss: 0.6974\n",
      "50000 10834\n",
      "Epoch 145 | Loss: 0.6973\n",
      "50000 10834\n",
      "Epoch 146 | Loss: 0.6973\n",
      "50000 10834\n",
      "Epoch 147 | Loss: 0.6972\n",
      "50000 10834\n",
      "Epoch 148 | Loss: 0.6972\n",
      "50000 10834\n",
      "Epoch 149 | Loss: 0.6972\n"
     ]
    }
   ],
   "source": [
    "optimizer = torch.optim.Adam(net.parameters(), lr=0.001)\n",
    "all_preds = []\n",
    "epochs = 150\n",
    "losses=[]\n",
    "for epoch in range(epochs):\n",
    "    preds = net(G, inputs.float())\n",
    "    all_preds.append(preds)\n",
    "\n",
    "    print(len(preds),len(labels))\n",
    "    loss = F.cross_entropy(preds[labeled_nodes], labels.long())\n",
    "    losses.append(loss)\n",
    "    optimizer.zero_grad() \n",
    "    loss.backward() \n",
    "    optimizer.step()\n",
    "\n",
    "    print('Epoch %d | Loss: %.4f' % (epoch, loss.item()))"
   ]
  },
  {
   "cell_type": "code",
   "execution_count": 19,
   "id": "5ce557e0-22f8-40db-be59-5e88eaf30992",
   "metadata": {},
   "outputs": [
    {
     "data": {
      "image/png": "[encoded data removed]",
      "text/plain": [
       "<Figure size 640x480 with 1 Axes>"
      ]
     },
     "metadata": {},
     "output_type": "display_data"
    }
   ],
   "source": [
    "import matplotlib.pyplot as plt\n",
    "\n",
    "losses_list = []\n",
    "for i in losses:\n",
    "    losses_list.append(i.item())\n",
    "\n",
    "plt.plot(range(epochs),losses_list)\n",
    "plt.title('Losses vs Epochs')\n",
    "plt.ylabel('Losses')\n",
    "plt.xlabel('Epochs')\n",
    "\n",
    "plt.show()"
   ]
  },
  {
   "cell_type": "code",
   "execution_count": 20,
   "id": "3f6f325b-6c2f-4a36-8643-55dcb18f287d",
   "metadata": {},
   "outputs": [
    {
     "data": {
      "text/plain": [
       "0.50216"
      ]
     },
     "execution_count": 20,
     "metadata": {},
     "output_type": "execute_result"
    }
   ],
   "source": [
    "last_epoch = all_preds[epochs-1].detach().numpy()\n",
    "predicted_class = np.argmax(last_epoch, axis=-1)\n",
    "\n",
    "from sklearn.metrics import accuracy_score\n",
    "accuracy_score(predicted_class,y)"
   ]
  },
  {
   "cell_type": "markdown",
   "id": "2bfd0d0d-5986-4969-aa81-6c844cf53c38",
   "metadata": {},
   "source": [
    "## Reference\n",
    "\n",
    "Tale, Mihir. \"GNN for Jet Identification.\" 2020. GitHub, https://github.com/mstale007/GNN_for_Jet_Identification. Accessed 2 April 2024.\n"
   ]
  },
  {
   "cell_type": "code",
   "execution_count": null,
   "id": "11860c02-97d1-43f2-b855-91485b909a7f",
   "metadata": {},
   "outputs": [],
   "source": []
  }
 ],
 "metadata": {
  "kernelspec": {
   "display_name": "pennylane_kernel",
   "language": "python",
   "name": "pennylane_kernel"
  },
  "language_info": {
   "codemirror_mode": {
    "name": "ipython",
    "version": 3
   },
   "file_extension": ".py",
   "mimetype": "text/x-python",
   "name": "python",
   "nbconvert_exporter": "python",
   "pygments_lexer": "ipython3",
   "version": "3.12.2"
  }
 },
 "nbformat": 4,
 "nbformat_minor": 5
}
